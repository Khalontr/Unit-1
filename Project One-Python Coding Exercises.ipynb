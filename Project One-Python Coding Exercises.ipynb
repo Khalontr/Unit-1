{
 "cells": [
  {
   "cell_type": "markdown",
   "metadata": {},
   "source": [
    "<img src=\"http://imgur.com/1ZcRyrc.png\" style=\"float: left; margin: 20px; height: 55px\">\n",
    "\n",
    "# Project 1: Python Coding Exercises\n",
    "\n",
    "_Authors: Joseph Nelson (DC) _\n",
    "\n",
    "---"
   ]
  },
  {
   "cell_type": "markdown",
   "metadata": {},
   "source": [
    "The following code challenges are drawn from common exercises used in technical interviews.\n",
    "\n",
    "Please note that there may be several ways to approach each challenge. If you get stuck, try mapping out your approach in pseudocode first. Finally, while solutions to problems like these may be found online, remember that if you copy/paste code that you can't explain, you'll be missing out on the point of the project. The only way to truly learn a new skill is through practice, trial, and error - we can only help you improve by understanding where you are having trouble."
   ]
  },
  {
   "cell_type": "markdown",
   "metadata": {},
   "source": [
    "### Challenge 1: Largest Palindrome\n",
    "A palindromic number reads the same both ways. For example, 1234321 is a palindrome. The largest palindrome made from the product of two two-digit numbers is 9009 = 91 × 99. Find the largest palindrome made from the product of two three-digit numbers. Afterward, write a brief explanation walking through your code's logic in markdown."
   ]
  },
  {
   "cell_type": "code",
   "execution_count": null,
   "metadata": {},
   "outputs": [],
   "source": [
    "def largest_palindrome():\n",
    "    \"\"\"\n",
    "    This function works by multiplying all combinations of three digit numbers.\n",
    "    For each product, determine if it is a palindrome, and if it is the largest\n",
    "    we've seen, then keep track of it.\n",
    "    We determine if a number is a palindrome, if its string representation is equal\n",
    "    to its reversed self.\n",
    "    \"\"\"\n",
    "    max = 0\n",
    "    for i in range(100, 1000):\n",
    "        for j in range(100, 1000):\n",
    "            product = i * j\n",
    "            product_string = str(product)\n",
    "            if product_string == product_string[::-1]:\n",
    "                if product > max:\n",
    "                    max = product\n",
    "    return max\n",
    "\n",
    "largest_palindrome()"
   ]
  },
  {
   "cell_type": "markdown",
   "metadata": {},
   "source": [
    "\n",
    "### Challenge 2: Summation of Primes\n",
    "The sum of the primes below 10 is 2 + 3 + 5 + 7 = 17. Find the sum of all the primes below 2,000. Afterward, write a brief explanation walking through your code's logic in markdown."
   ]
  },
  {
   "cell_type": "markdown",
   "metadata": {
    "collapsed": true
   },
   "source": [
    "def is_prime(n):\n",
    "    if n < 2:\n",
    "        return False\n",
    "    if n == 2:\n",
    "        return True\n",
    "    for i in range(2, n):\n",
    "        if n % i == 0:\n",
    "            return False\n",
    "    return True\n",
    "\n",
    "def sum_of_primes():\n",
    "    \"\"\"\n",
    "    This function works by looping through all numbers under 2000.\n",
    "    If a number is prime, add it to a running total\n",
    "    \"\"\"\n",
    "    sum = 0\n",
    "    for i in range(1, 2000):\n",
    "        if is_prime(i):\n",
    "            sum = sum + i\n",
    "    return sum\n",
    "\n",
    "sum_of_primes()\n"
   ]
  },
  {
   "cell_type": "markdown",
   "metadata": {},
   "source": [
    "### Challenge 3: Multiples of 3 and 5\n",
    "If we list all of the natural numbers below 10 that are multiples of 3 or 5, we get 3, 5, 6, and 9. The sum of these multiples is 23. Find the sum of all the multiples of 3 and 5 below 1,000. Afterward, write a brief explanation walking through your code's logic in markdown."
   ]
  },
  {
   "cell_type": "code",
   "execution_count": null,
   "metadata": {},
   "outputs": [],
   "source": [
    "def sum_of_multiples():\n",
    "    \"\"\"\n",
    "    This function works by looping through all numbers under 2000.\n",
    "    If a number is a multiple of 3 or 5, add it to a running total\n",
    "    \"\"\"\n",
    "    sum = 0\n",
    "    for i in range(1, 1000):\n",
    "        if i % 3 == 0 or i % 5 == 0:\n",
    "            sum = sum + i\n",
    "    return sum\n",
    "\n",
    "sum_of_multiples()\n"
   ]
  },
  {
   "cell_type": "markdown",
   "metadata": {},
   "source": [
    "### Challenge 4: String Compressor\n",
    "Implement a method to perform basic string compression using the counts of repeated characters. (This is called run-length encoding.) For example, the string \"aabcccccaaa\" would become a2b1c5a3. If the “compressed” string would not become smaller than the original string, your method should return the original string. You can assume the string has only uppercase and lowercase letters (a–z). Specify whether your solution is case sensitive or case insensitive and what you would need to change to make it the other. Afterward, write a brief explanation walking through your code's logic in markdown."
   ]
  },
  {
   "cell_type": "code",
   "execution_count": null,
   "metadata": {},
   "outputs": [],
   "source": [
    "def compress(original_string):\n",
    "    \"\"\"\n",
    "    This function works by counting occurences of characters in order, and upon seeing a new character,\n",
    "    adds the previous character and how many times it was seen to the new compressed string\n",
    "    \"\"\"\n",
    "    compressed_string = ''\n",
    "    # Keep track of the character we currently see, and keep track of how many times we've seen it\n",
    "    current_character = ''\n",
    "    times_seen = 0\n",
    "    for character in original_string:\n",
    "        if character != current_character:\n",
    "            if current_character != '':\n",
    "                # if we see a new character, add the last character and how many times we've seen it to the compressed string\n",
    "                compressed_string += current_character + str(times_seen)\n",
    "            current_character = character\n",
    "            times_seen = 1\n",
    "        else:\n",
    "            # if we see the same character, increase how many times we've seen\n",
    "            times_seen += 1\n",
    "    if times_seen != 0: # If we still have a character that's unreported then add it to the compressed string\n",
    "        compressed_string += current_character + str(times_seen)\n",
    "    # Below we check if the original string is shorter than the compressed string, if it is, we return it\n",
    "    if len(original_string) <= len(compressed_string):\n",
    "        return original_string\n",
    "    return compressed_string\n",
    "\n",
    "print(compress(\"aabcccccaaa\"))"
   ]
  },
  {
   "cell_type": "markdown",
   "metadata": {},
   "source": [
    "### *BONUS* Challenge: FizzBuzz\n",
    "Write a program that prints all of the numbers from 1 to 100. For multiples of 3, instead of the number, print \"Fizz;\" for multiples of 5, print \"Buzz.\" For numbers that are multiples of both 3 and 5, print \"FizzBuzz.\" Afterward, write a brief explanation walking through your code's logic in markdown."
   ]
  },
  {
   "cell_type": "code",
   "execution_count": null,
   "metadata": {
    "collapsed": true
   },
   "outputs": [],
   "source": []
  }
 ],
 "metadata": {
  "anaconda-cloud": {},
  "kernelspec": {
   "display_name": "Python 3",
   "language": "python",
   "name": "python3"
  },
  "language_info": {
   "codemirror_mode": {
    "name": "ipython",
    "version": 3
   },
   "file_extension": ".py",
   "mimetype": "text/x-python",
   "name": "python",
   "nbconvert_exporter": "python",
   "pygments_lexer": "ipython3",
   "version": "3.6.4"
  }
 },
 "nbformat": 4,
 "nbformat_minor": 2
}
